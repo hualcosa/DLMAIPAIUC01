{
 "cells": [
  {
   "cell_type": "code",
   "execution_count": 16,
   "metadata": {},
   "outputs": [],
   "source": [
    "import requests\n",
    "import json\n",
    "\n",
    "# Define the base URL of the FastAPI server\n",
    "BASE_URL = \"http://127.0.0.1:8000\"\n",
    "\n",
    "# Define a function to interact with the /run_workflow/ endpoint\n",
    "def interact_with_workflow(state):\n",
    "    try:\n",
    "        # Send a POST request to the /run_workflow/ endpoint\n",
    "        response = requests.post(f\"{BASE_URL}/run_workflow/\", json=state)\n",
    "        # Check if the request was successful\n",
    "        if response.status_code == 200:\n",
    "            # Parse and return the JSON response\n",
    "            parsed_response = response.json()\n",
    "            parsed_response = {k: v for k, v in parsed_response.items() if v is not None}\n",
    "            return parsed_response\n",
    "        else:\n",
    "            # If the request failed, print the error details\n",
    "            print(f\"Error: {response.status_code}, Detail: {response.text}\")\n",
    "    except requests.exceptions.RequestException as e:\n",
    "        # Handle any request exceptions that may occur\n",
    "        print(f\"Request failed: {e}\")\n",
    "\n",
    "\n"
   ]
  },
  {
   "cell_type": "code",
   "execution_count": 19,
   "metadata": {},
   "outputs": [
    {
     "data": {
      "text/plain": [
       "{'user_message': 'I want to book a room.',\n",
       " 'intent': 'make a reservation',\n",
       " 'valid_info': True,\n",
       " 'error': [],\n",
       " 'not_filled_keys': ['full_name',\n",
       "  'check_in_date',\n",
       "  'check_out_date',\n",
       "  'num_guests',\n",
       "  'payment_method',\n",
       "  'breakfast_included'],\n",
       " 'response': \"Hello! I'd be happy to help you make a reservation. Could you please provide your full name to get started?\"}"
      ]
     },
     "execution_count": 19,
     "metadata": {},
     "output_type": "execute_result"
    }
   ],
   "source": [
    "# Example interaction with the /run_workflow/ endpoint\n",
    "initial_state = {\n",
    "    \"user_message\": \"I want to book a room.\",\n",
    "    \"not_filled_keys\": [\n",
    "        \"full_name\",\n",
    "        \"check_in_date\",\n",
    "        \"check_out_date\",\n",
    "        \"num_guests\",\n",
    "        \"payment_method\",\n",
    "        \"breakfast_included\",\n",
    "    ],\n",
    "}\n",
    "\n",
    "# Interact with the workflow and print the result\n",
    "updated_state = interact_with_workflow(initial_state)\n",
    "updated_state\n"
   ]
  },
  {
   "cell_type": "code",
   "execution_count": 21,
   "metadata": {},
   "outputs": [
    {
     "data": {
      "text/plain": [
       "{'user_message': 'My name is Hugo Albuquerque Cosme da Silva',\n",
       " 'intent': 'make a reservation',\n",
       " 'full_name': 'Hugo Albuquerque Cosme da Silva',\n",
       " 'valid_info': True,\n",
       " 'error': [],\n",
       " 'not_filled_keys': ['check_in_date',\n",
       "  'check_out_date',\n",
       "  'num_guests',\n",
       "  'payment_method',\n",
       "  'breakfast_included'],\n",
       " 'response': \"Hi Hugo! I'd be happy to help you make a reservation. Could you please provide the check-in date for your stay? Please use the format YYYY-MM-DD.\"}"
      ]
     },
     "execution_count": 21,
     "metadata": {},
     "output_type": "execute_result"
    }
   ],
   "source": [
    "updated_state['user_message'] = \"My name is Hugo Albuquerque Cosme da Silva\"\n",
    "updated_state = interact_with_workflow(updated_state)\n",
    "updated_state"
   ]
  },
  {
   "cell_type": "code",
   "execution_count": 22,
   "metadata": {},
   "outputs": [
    {
     "data": {
      "text/plain": [
       "{'user_message': 'I would like to check in 2024-11-01 and check out at 2024-11-12',\n",
       " 'intent': 'make a reservation',\n",
       " 'full_name': 'Hugo Albuquerque Cosme da Silva',\n",
       " 'check_in_date': '2024-11-01',\n",
       " 'check_out_date': '2024-11-12',\n",
       " 'valid_info': True,\n",
       " 'error': [],\n",
       " 'not_filled_keys': ['num_guests', 'payment_method', 'breakfast_included'],\n",
       " 'response': \"Hello Hugo! I see you're looking to make a reservation from 2024-11-01 to 2024-11-12. Could you please let me know how many guests will be staying?\"}"
      ]
     },
     "execution_count": 22,
     "metadata": {},
     "output_type": "execute_result"
    }
   ],
   "source": [
    "updated_state['user_message'] = \"I would like to check in 2024-11-01 and check out at 2024-11-12\"\n",
    "updated_state = interact_with_workflow(updated_state)\n",
    "updated_state"
   ]
  },
  {
   "cell_type": "markdown",
   "metadata": {},
   "source": [
    "And so on and so forth...."
   ]
  }
 ],
 "metadata": {
  "kernelspec": {
   "display_name": "base",
   "language": "python",
   "name": "python3"
  },
  "language_info": {
   "codemirror_mode": {
    "name": "ipython",
    "version": 3
   },
   "file_extension": ".py",
   "mimetype": "text/x-python",
   "name": "python",
   "nbconvert_exporter": "python",
   "pygments_lexer": "ipython3",
   "version": "3.10.9"
  }
 },
 "nbformat": 4,
 "nbformat_minor": 2
}
